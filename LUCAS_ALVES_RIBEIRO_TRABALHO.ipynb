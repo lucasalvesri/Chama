{
  "nbformat": 4,
  "nbformat_minor": 0,
  "metadata": {
    "colab": {
      "name": "LUCAS_ALVES_RIBEIRO_atividade_listas_dicionarios_feito.ipynb",
      "provenance": [],
      "collapsed_sections": [],
      "include_colab_link": true
    },
    "kernelspec": {
      "name": "python3",
      "display_name": "Python 3"
    },
    "language_info": {
      "name": "python"
    }
  },
  "cells": [
    {
      "cell_type": "markdown",
      "metadata": {
        "id": "rLoDvObdGiPW",
      },
      "source": [
        "# Atividade\n",
        "### Entrega: 16/Set\n",
        "### Valor: 100 pontos\n",
        "\n",
        "### Utilizando os dados a seguir, mostre os resultados de **forma individual** para cada curso sendo:\n",
        "\n",
        "* Menor nota\n",
        "* Maior nota\n",
        "* Média das notas\n",
        "\n",
        "~~~\n",
        "LUCAS ALVES RIBEIRO \n",
        "~~~"
      ]
    },
    {
      "cell_type": "code",
      "metadata": {
        "id": "ER3woJq1Gxer"
      },
      "source": [
        "# Dados\n",
        "alunos = []\n",
        "alunos.append({'nome': 'Aluno 01', 'curso': 'Ciências da Computação', 'AV1':8 })\n",
        "alunos.append({'nome': 'Aluno 02', 'curso': 'Sistemas de Informação', 'AV1':7 })\n",
        "alunos.append({'nome': 'Aluno 03', 'curso': 'Sistemas de Informação', 'AV1':6 })\n",
        "alunos.append({'nome': 'Aluno 04', 'curso': 'Sistemas de Informação', 'AV1':6 })\n",
        "alunos.append({'nome': 'Aluno 05', 'curso': 'Sistemas de Informação', 'AV1':6 })\n",
        "alunos.append({'nome': 'Aluno 06', 'curso': 'Análise e Desenvolvimento de Sistemas', 'AV1':7 })\n",
        "alunos.append({'nome': 'Aluno 07', 'curso': 'Análise e Desenvolvimento de Sistemas', 'AV1':9 })\n",
        "alunos.append({'nome': 'Aluno 08', 'curso': 'Ciências da Computação', 'AV1':10 })\n",
        "alunos.append({'nome': 'Aluno 09', 'curso': 'Ciências da Computação', 'AV1':10 })\n",
        "alunos.append({'nome': 'Aluno 10', 'curso': 'Ciências da Computação', 'AV1':4 })\n",
        "alunos.append({'nome': 'Aluno 11', 'curso': 'Análise e Desenvolvimento de Sistemas', 'AV1':5 })\n",
        "alunos.append({'nome': 'Aluno 11', 'curso': 'Análise e Desenvolvimento de Sistemas', 'AV1':5 })\n",
        "alunos.append({'nome': 'Aluno 12', 'curso': 'Análise e Desenvolvimento de Sistemas', 'AV1':9 })\n",
        "alunos.append({'nome': 'Aluno 13', 'curso': 'Análise e Desenvolvimento de Sistemas', 'AV1':9 })\n",
        "alunos.append({'nome': 'Aluno 14', 'curso': 'Ciências da Computação', 'AV1': 7})\n",
        "alunos.append({'nome': 'Aluno 15', 'curso': 'Análise e Desenvolvimento de Sistemas', 'AV1':7})\n",
        "alunos.append({'nome': 'Aluno 16', 'curso': 'Ciências da Computação', 'AV1': 6})\n",
        "alunos.append({'nome': 'Aluno 17', 'curso': 'Análise e Desenvolvimento de Sistemas', 'AV1':8 })\n",
        "alunos.append({'nome': 'Aluno 18', 'curso': 'Ciências da Computação', 'AV1':4 })\n",
        "alunos.append({'nome': 'Aluno 19', 'curso': 'Sistemas de Informação', 'AV1':2 })\n",
        "alunos.append({'nome': 'Aluno 20', 'curso': 'Análise e Desenvolvimento de Sistemas', 'AV1':9 })"
      ],
      "execution_count": null,
      "outputs": []
    },
    {
      "cell_type": "markdown",
      "metadata": {
        "id": "-mt9Dcg5IM3X"
      },
      "source": [
        "## Resolução"
      ]
    },
    {
      "cell_type": "code",
      "metadata": {
        "id": "9PPbVpL2G9nU",
      },
      "source": [
        "# Notas Gerais\n",
        "# desenvolver aqui o código\n",
        "\n",
        "notas = []\n",
        "for aluno in alunos:\n",
        "    notas.append(aluno['AV1'])\n",
        "\n",
        "print('A MAIOR nota é......:', max(notas))\n",
        "print('A MENOR nota é......:', min(notas))\n",
        "print('A MÉDIA das nota é..:', round(sum(notas)/len(notas),2))\n",
        "\n",
        "# Saída\n",
        "# A MAIOR nota é.....: 10\n",
        "# A MENOR nota é.....: 2\n",
        "# A MÉDIA das notas é: 6.86"
      ],
      "execution_count": null,
      "outputs": [
        {
          "output_type": "stream",
          "name": "stdout",
          "text": [
            "A MAIOR nota é......: 10\n",
            "A MENOR nota é......: 2\n",
            "A MÉDIA das nota é..: 6.86\n"
          ]
        }
      ]
    },
    {
      "cell_type": "code",
      "metadata": {
        "id": "HODtGJzRIUor",
      },
      "source": [
        "# Ciências da Computação\n",
        "# desenvolver aqui o código\n",
        "\n",
        "notasCC = []\n",
        "for aluno in alunos:\n",
        "  if aluno['curso'] == 'Ciências da Computação':\n",
        "    notasCC.append(aluno['AV1'])\n",
        "\n",
        "print('A MAIOR nota é......:', max(notasCC))\n",
        "print('A MENOR nota é......:', min(notasCC))\n",
        "print('A MÉDIA das nota é..:', round(sum(notasCC)/len(notasCC),2))\n",
        "\n",
        "# Saída\n",
        "# A MAIOR nota é.....: 10\n",
        "# A MENOR nota é.....: 4\n",
        "# A MÉDIA das notas é: 7.0"
      ],
      "execution_count": null,
      "outputs": [
        {
          "output_type": "stream",
          "name": "stdout",
          "text": [
            "A MAIOR nota é......: 10\n",
            "A MENOR nota é......: 4\n",
            "A MÉDIA das nota é..: 7.0\n"
          ]
        }
      ]
    },
    {
      "cell_type": "code",
      "metadata": {
        "id": "qm7o9uJLIV7V",
      },
      "source": [
        "# Análise e Desenvolvimento de Sistemas\n",
        "# desenvolver aqui o código\n",
        "\n",
        "notasADS = []\n",
        "for aluno in alunos:\n",
        "  if aluno['curso'] == 'Análise e Desenvolvimento de Sistemas':\n",
        "    notasADS.append(aluno['AV1'])\n",
        "\n",
        "print('A MAIOR nota é......:', max(notasADS))\n",
        "print('A MENOR nota é......:', min(notasADS))\n",
        "print('A MÉDIA das nota é..:', round(sum(notasADS)/len(notasADS),2))\n",
        "\n",
        "# Saída\n",
        "# A MAIOR nota é.....: 9\n",
        "# A MENOR nota é.....: 5\n",
        "# A MÉDIA das notas é: 7.56"
      ],
      "execution_count": null,
      "outputs": [
        {
          "output_type": "stream",
          "name": "stdout",
          "text": [
            "A MAIOR nota é......: 9\n",
            "A MENOR nota é......: 5\n",
            "A MÉDIA das nota é..: 7.56\n"
          ]
        }
      ]
    },
    {
      "cell_type": "code",
      "metadata": {
        "id": "1e3oVnYTIV-N",
      },
      "source": [
        "# Sistemas de Informação\n",
        "# desenvolver aqui o código\n",
        "notasSI = []\n",
        "for aluno in alunos:\n",
        "  if aluno['curso'] == 'Sistemas de Informação':\n",
        "    notasSI.append(aluno['AV1'])\n",
        "\n",
        "print('A MAIOR nota é......:', max(notasSI))\n",
        "print('A MENOR nota é......:', min(notasSI))\n",
        "print('A MÉDIA das nota é..:', round(sum(notasSI)/len(notasSI),2))\n",
        "# Saída\n",
        "# A MAIOR notas é....: 7\n",
        "# A MENOR nota é.....: 2\n",
        "# A MÉDIA das notas é: 5.4"
      ],
      "execution_count": null,
      "outputs": [
        {
          "output_type": "stream",
          "name": "stdout",
          "text": [
            "A MAIOR nota é......: 7\n",
            "A MENOR nota é......: 2\n",
            "A MÉDIA das nota é..: 5.4\n"
          ]
        }
      ]
    },
    {
      "cell_type": "markdown",
      "metadata": {
        "id": "FIzo4z_dHl6l"
      },
      "source": [
        "### Desenvolva um algoritmo que permita mostrar **de uma só vez** os resultados do exercício anterior para cada curso."
      ]
    },
    {
      "cell_type": "code",
      "metadata": {
        "id": "eWT5OxUFJeX-",
      },
      "source": [
        "# Resolução\n",
        "# desenvolver aqui o código\n",
        "\n",
        "notasCC = []\n",
        "notasADS = []\n",
        "notasSI = []\n",
        "\n",
        "for aluno in alunos:\n",
        "  if aluno['curso'] == 'Análise e Desenvolvimento de Sistemas':\n",
        "    notasADS.append(aluno['AV1'])\n",
        "  elif aluno['curso'] == 'Ciências da Computação': \n",
        "    notasCC.append(aluno['AV1']) \n",
        "  elif aluno['curso'] == 'Sistemas de Informação':\n",
        "    notasSI.append(aluno['AV1'])  \n",
        "\n",
        "\n",
        "# Saída\n",
        "# Curso: Análise e Desenvolvimento de Sistemas [7, 9, 5, 5, 9, 9, 7, 8, 9]\n",
        "# A MAIOR nota é.....: 9\n",
        "# A MENOR nota é.....: 5\n",
        "# A MÉDIA das notas é: 7.56\n",
        "\n",
        "print('........................................................................')\n",
        "print('Curso: Análise e Desenvolvimento de Sistemas', notasADS)\n",
        "print('A MAIOR nota é......:', max(notasADS))\n",
        "print('A MENOR nota é......:', min(notasADS))\n",
        "print('A MÉDIA das nota é..:', round(sum(notasADS)/len(notasADS),2))\n",
        "print('........................................................................')\n",
        "\n",
        "# Curso: Ciências da Computação [8, 10, 10, 4, 7, 6, 4]\n",
        "# A MAIOR nota é.....: 10\n",
        "# A MENOR nota é.....: 4\n",
        "# A MÉDIA das notas é: 7.0\n",
        "\n",
        "print('Curso: Ciências da Computação', notasCC)\n",
        "print('A MAIOR nota é......:', max(notasCC))\n",
        "print('A MENOR nota é......:', min(notasCC))\n",
        "print('A MÉDIA das nota é..:', round(sum(notasCC)/len(notasCC),2))\n",
        "print('........................................................................')\n",
        "\n",
        "# Curso: Sistemas de Informação [7, 6, 6, 6, 2]\n",
        "# A MAIOR nota é.....: 7\n",
        "# A MENOR nota é.....: 2\n",
        "# A MÉDIA das notas é: 5.4\n",
        "\n",
        "print('Curso: Sistemas de Informação', notasSI)\n",
        "print('A MAIOR nota é......:', max(notasSI))\n",
        "print('A MENOR nota é......:', min(notasSI))\n",
        "print('A MÉDIA das nota é..:', round(sum(notasSI)/len(notasSI),2))\n",
        "print('........................................................................')"
      ],
      "execution_count": null,
      "outputs": [
        {
          "output_type": "stream",
          "name": "stdout",
          "text": [
            "........................................................................\n",
            "Curso: Análise e Desenvolvimento de Sistemas [7, 9, 5, 5, 9, 9, 7, 8, 9]\n",
            "A MAIOR nota é......: 9\n",
            "A MENOR nota é......: 5\n",
            "A MÉDIA das nota é..: 7.56\n",
            "........................................................................\n",
            "Curso: Ciências da Computação [8, 10, 10, 4, 7, 6, 4]\n",
            "A MAIOR nota é......: 10\n",
            "A MENOR nota é......: 4\n",
            "A MÉDIA das nota é..: 7.0\n",
            "........................................................................\n",
            "Curso: Sistemas de Informação [7, 6, 6, 6, 2]\n",
            "A MAIOR nota é......: 7\n",
            "A MENOR nota é......: 2\n",
            "A MÉDIA das nota é..: 5.4\n",
            "........................................................................\n"
          ]
        }
      ]
    },
    {
      "cell_type": "code",
      "metadata": {
      },
      "source": [
        "# Consigo resolver apenas usando collections \n",
        "\n",
        "from collections import defaultdict\n",
        "\n",
        "res = defaultdict(list)\n",
        "\n",
        "for v in alunos: \n",
        "  res[v['curso']].append(v['AV1'])\n",
        "\n",
        "for curso in res.items():\n",
        "  print('Curso:', curso[0], curso[1])\n",
        "  print('A MAIOR nota é......:', max(curso[1]))\n",
        "  print('A MENOR nota é......:', min(curso[1]))\n",
        "  print('A MÉDIA das nota é..:', round(sum(curso[1])/len(curso[1]),2))\n",
        "  print('........................................................................')\n"
      ],
      "execution_count": null,
      "outputs": [
        {
          "output_type": "stream",
          "name": "stdout",
          "text": [
            "Curso: Ciências da Computação [8, 10, 10, 4, 7, 6, 4]\n",
            "A MAIOR nota é......: 10\n",
            "A MENOR nota é......: 4\n",
            "A MÉDIA das nota é..: 7.0\n",
            "........................................................................\n",
            "Curso: Sistemas de Informação [7, 6, 6, 6, 2]\n",
            "A MAIOR nota é......: 7\n",
            "A MENOR nota é......: 2\n",
            "A MÉDIA das nota é..: 5.4\n",
            "........................................................................\n",
            "Curso: Análise e Desenvolvimento de Sistemas [7, 9, 5, 5, 9, 9, 7, 8, 9]\n",
            "A MAIOR nota é......: 9\n",
            "A MENOR nota é......: 5\n",
            "A MÉDIA das nota é..: 7.56\n",
            "........................................................................\n"
          ]
        }
      ]
    }
  ]
}
